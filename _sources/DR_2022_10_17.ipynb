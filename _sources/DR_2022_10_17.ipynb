{
 "cells": [
  {
   "cell_type": "markdown",
   "metadata": {},
   "source": [
    "# Daily Report on Oct 17, 2022: The current working plans\n",
    "\n",
    "## 1: Prepare a Jupyter Notebook presentation of Mitigation Model:\n",
    "\n",
    "### 1.1: Economic Models:  HJB of Four States(pre or post damage and tech jump)\n",
    "\n",
    "### 1.2: Running Time for different Grid Size: A coarse and a fine grid\n",
    "\n",
    "### 1.3: Graphical Result: Dynamic Comparison between different set of psi0 and psi1.\n",
    "\n",
    "## 2: Continue on Econ+Climate Model: \n",
    "\n",
    "### 2.1: Execute the same Diagnostics in the slide on Erik's new model in Oct.\n",
    "\n",
    "### 2.2: Implement new initial guesses as suggested by Mike.\n"
   ]
  },
  {
   "cell_type": "markdown",
   "metadata": {},
   "source": []
  }
 ],
 "metadata": {
  "language_info": {
   "name": "python"
  },
  "orig_nbformat": 4
 },
 "nbformat": 4,
 "nbformat_minor": 2
}
